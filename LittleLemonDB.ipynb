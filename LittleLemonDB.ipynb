{
 "cells": [
  {
   "cell_type": "code",
   "execution_count": 14,
   "id": "c6617bc0-17c6-4609-8e0b-d61727cf6676",
   "metadata": {},
   "outputs": [
    {
     "name": "stdout",
     "output_type": "stream",
     "text": [
      "✅ Connected to database.\n"
     ]
    }
   ],
   "source": [
    "import mysql.connector as connector\n",
    "from mysql.connector import Error\n",
    "\n",
    "try:\n",
    "    connection = connector.connect(\n",
    "        user=\"root\",\n",
    "        password=\"Scimitar1!\",\n",
    "        database=\"littlelemondb\"\n",
    "    )\n",
    "    if connection.is_connected():\n",
    "        print(\"✅ Connected to database.\")\n",
    "except Error as e:\n",
    "    print(\"❌ Connection failed:\", e)\n"
   ]
  },
  {
   "cell_type": "code",
   "execution_count": 15,
   "id": "4d20dfe2-3272-4ee5-9f2e-474648c786c1",
   "metadata": {},
   "outputs": [
    {
     "name": "stdout",
     "output_type": "stream",
     "text": [
      " - bookings\n",
      " - customers\n",
      " - menuitems\n",
      " - menus\n",
      " - orderdeliverystatus\n",
      " - orders\n",
      " - ordersview\n",
      " - staff\n",
      " - vw2ordersplaced\n",
      " - vwordersover_150\n"
     ]
    }
   ],
   "source": [
    "try:\n",
    "    cursor = connection.cursor()\n",
    "    cursor.execute(\"SHOW TABLES\")\n",
    "    tables = cursor.fetchall()\n",
    "    for (name,) in tables:\n",
    "        print(f\" - {name}\")\n",
    "except Exception as e:\n",
    "    print(\"❌ Error while querying:\", e)\n",
    "\n",
    "    "
   ]
  },
  {
   "cell_type": "code",
   "execution_count": 16,
   "id": "c05a61ca-054c-455e-ab54-04226b2894a7",
   "metadata": {},
   "outputs": [
    {
     "name": "stdout",
     "output_type": "stream",
     "text": [
      "Customers with orders over $60:\n",
      "Name: Alice Smith, Contact: 0400000001, Total Spent: $100.00\n",
      "Name: Bob Johnson, Contact: 0400000002, Total Spent: $80.00\n",
      "Name: Diana Prince, Contact: 0400000004, Total Spent: $75.00\n",
      "Name: Fiona Chan, Contact: 0400000006, Total Spent: $95.00\n",
      "Name: George Hall, Contact: 0400000007, Total Spent: $85.00\n",
      "Name: Ian Black, Contact: 0400000009, Total Spent: $120.00\n",
      "Name: Jane Doe, Contact: 0400000010, Total Spent: $65.00\n",
      "Name: Alice Smith, Contact: 0400000001, Total Spent: $160.00\n",
      "Name: Bob Johnson, Contact: 0400000002, Total Spent: $175.00\n",
      "Name: Carlos Diaz, Contact: 0400000003, Total Spent: $180.00\n",
      "Name: Alice Smith, Contact: 0400000001, Total Spent: $140.00\n",
      "Name: Bob Johnson, Contact: 0400000002, Total Spent: $130.00\n"
     ]
    }
   ],
   "source": [
    "contact_details_query = \"\"\"\n",
    "SELECT \n",
    "    Customers.CustomerName,\n",
    "    Customers.ContactNumber, \n",
    "    Orders.Cost\n",
    "FROM \n",
    "    Customers\n",
    "JOIN \n",
    "    Orders ON Customers.CustomerID = Orders.CustomerID\n",
    "WHERE \n",
    "    Orders.TotalCost > 60;\n",
    "\"\"\"\n",
    "\n",
    "try:\n",
    "    cursor = connection.cursor()\n",
    "    cursor.execute(contact_details_query)\n",
    "    results = cursor.fetchall()\n",
    "\n",
    "    print(\"Customers with orders over $60:\")\n",
    "    for row in results:\n",
    "        full_name, contact_number, total_cost = row\n",
    "        print(f\"Name: {full_name}, Contact: {contact_number}, Total Spent: ${total_cost}\")\n",
    "\n",
    "except Exception as e:\n",
    "    print(\"Query failed:\", e)\n"
   ]
  },
  {
   "cell_type": "code",
   "execution_count": 17,
   "id": "562ae9e4-c973-4671-a206-21aa3bf4c63b",
   "metadata": {},
   "outputs": [
    {
     "name": "stdout",
     "output_type": "stream",
     "text": [
      "🔌 Connection closed.\n"
     ]
    }
   ],
   "source": [
    "if 'cursor' in locals():\n",
    "    cursor.close()\n",
    "if 'connection' in locals() and connection.is_connected():\n",
    "    connection.close()\n",
    "    print(\"🔌 Connection closed.\")\n"
   ]
  },
  {
   "cell_type": "code",
   "execution_count": null,
   "id": "6e04826f-503d-46d4-97db-8c36f31db45e",
   "metadata": {},
   "outputs": [],
   "source": []
  }
 ],
 "metadata": {
  "kernelspec": {
   "display_name": "Python 3 (ipykernel)",
   "language": "python",
   "name": "python3"
  },
  "language_info": {
   "codemirror_mode": {
    "name": "ipython",
    "version": 3
   },
   "file_extension": ".py",
   "mimetype": "text/x-python",
   "name": "python",
   "nbconvert_exporter": "python",
   "pygments_lexer": "ipython3",
   "version": "3.12.0"
  }
 },
 "nbformat": 4,
 "nbformat_minor": 5
}
